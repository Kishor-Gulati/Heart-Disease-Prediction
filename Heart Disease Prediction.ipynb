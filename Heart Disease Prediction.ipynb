{
 "cells": [
  {
   "cell_type": "markdown",
   "id": "b1c941ec",
   "metadata": {},
   "source": [
    "# Heart Disease Prediction"
   ]
  },
  {
   "cell_type": "markdown",
   "id": "b06022c7",
   "metadata": {},
   "source": [
    "## Abstract:\n",
    "Heart disease is easier to treat when it is detected in the early stages. Machine learning techniques may aid a more efficient analysis in the prediction of the disease. Moreover, this prediction is one of the most central problems in medicine, as it is one of the leading diseases related to an unhealthy lifestyle. So, an early prediction of this disease will be useful for a cure or aversion.  \n",
    "\n",
    "## Problem Statement:\n",
    "Analyze the heart disease dataset to explore the machine learning algorithms and build a decision tree model to predict the disease.  \n",
    "\n",
    "## Dataset Information:\n",
    "Each attribute in the heart disease dataset is a medical risk factor.  \n",
    "\n",
    "## Variable Description:\n",
    "* <u>age:</u>\tAge of the patient\n",
    "* <u>gender:</u> Gender of the patient - (0,1) - (Male, Female)\n",
    "* <u>chest_pain:</u> It refers to the chest pain experienced by the patient -(0,1,2,3)\n",
    "* <u>rest_bps:</u> Blood pressure of the patient while resting(in mm/Hg)\n",
    "* <u>cholesterol:</u>\tPatient's cholesterol level (in mg/dl)\n",
    "* <u>fasting_blood_sugar:</u>\tThe blood sugar of the patient while fasting\n",
    "* <u>rest_ecg:</u> Potassium level (0,1,2)\n",
    "* <u>thalach:</u>\tThe patient’s maximum heart rate\n",
    "* <u>exer_angina:</u>\tIt refers to exercise-induced angina - (1=Yes, 0=No)\n",
    "* <u>old_peak:</u> It is the ST depression induced by exercise relative to rest(ST relates to the position on ECG plots)\n",
    "* <u>slope:</u> It refers to the slope of the peak of the exercise ST-Segment- (0,1,2)\n",
    "* <u>ca:</u> Number of major vessels - (0,1,2,3,4)\n",
    "* <u>thalassemia:</u>\tIt refers to thalassemia which is a blood disorder - (0,1,2,3)\n",
    "* <u>target:</u> The patient has heart disease or not - (1=Yes, 0=No)\n",
    "\n",
    "## Scope:\n",
    "* Understand data by performing exploratory data analysis\n",
    "* Training and building Decision Tree classification algorithm to predict if a patient has heart disease\n",
    "* Understand feature importances and improve the model\n",
    "* Understand various model performance metrics and measure the performance of each model"
   ]
  },
  {
   "cell_type": "code",
   "execution_count": 1,
   "id": "fc052658",
   "metadata": {},
   "outputs": [],
   "source": [
    "# Imports\n",
    "\n",
    "import pandas as pd\n",
    "import numpy as np\n",
    "import matplotlib.pyplot as plt\n",
    "import seaborn as sns\n",
    "import warnings\n",
    "warnings.filterwarnings(\"ignore\")\n",
    "from sklearn.preprocessing import StandardScaler\n",
    "from sklearn.model_selection import train_test_split\n",
    "from sklearn.tree import DecisionTreeClassifier\n",
    "from sklearn.metrics import confusion_matrix, accuracy_score, classification_report\n",
    "from sklearn.ensemble import RandomForestClassifier\n",
    "from sklearn.ensemble import ExtraTreesClassifier\n",
    "from sklearn import tree"
   ]
  },
  {
   "cell_type": "code",
   "execution_count": 2,
   "id": "26310e1c",
   "metadata": {},
   "outputs": [
    {
     "data": {
      "text/html": [
       "<div>\n",
       "<style scoped>\n",
       "    .dataframe tbody tr th:only-of-type {\n",
       "        vertical-align: middle;\n",
       "    }\n",
       "\n",
       "    .dataframe tbody tr th {\n",
       "        vertical-align: top;\n",
       "    }\n",
       "\n",
       "    .dataframe thead th {\n",
       "        text-align: right;\n",
       "    }\n",
       "</style>\n",
       "<table border=\"1\" class=\"dataframe\">\n",
       "  <thead>\n",
       "    <tr style=\"text-align: right;\">\n",
       "      <th></th>\n",
       "      <th>age</th>\n",
       "      <th>gender</th>\n",
       "      <th>chest_pain</th>\n",
       "      <th>rest_bps</th>\n",
       "      <th>cholestrol</th>\n",
       "      <th>fasting_blood_sugar</th>\n",
       "      <th>rest_ecg</th>\n",
       "      <th>thalach</th>\n",
       "      <th>exer_angina</th>\n",
       "      <th>old_peak</th>\n",
       "      <th>slope</th>\n",
       "      <th>ca</th>\n",
       "      <th>thalassemia</th>\n",
       "      <th>target</th>\n",
       "    </tr>\n",
       "  </thead>\n",
       "  <tbody>\n",
       "    <tr>\n",
       "      <th>0</th>\n",
       "      <td>63</td>\n",
       "      <td>1</td>\n",
       "      <td>3</td>\n",
       "      <td>145</td>\n",
       "      <td>233</td>\n",
       "      <td>1</td>\n",
       "      <td>0</td>\n",
       "      <td>150</td>\n",
       "      <td>0</td>\n",
       "      <td>2.3</td>\n",
       "      <td>0</td>\n",
       "      <td>0</td>\n",
       "      <td>1</td>\n",
       "      <td>1</td>\n",
       "    </tr>\n",
       "    <tr>\n",
       "      <th>1</th>\n",
       "      <td>37</td>\n",
       "      <td>1</td>\n",
       "      <td>2</td>\n",
       "      <td>130</td>\n",
       "      <td>250</td>\n",
       "      <td>0</td>\n",
       "      <td>1</td>\n",
       "      <td>187</td>\n",
       "      <td>0</td>\n",
       "      <td>3.5</td>\n",
       "      <td>0</td>\n",
       "      <td>0</td>\n",
       "      <td>2</td>\n",
       "      <td>1</td>\n",
       "    </tr>\n",
       "    <tr>\n",
       "      <th>2</th>\n",
       "      <td>41</td>\n",
       "      <td>0</td>\n",
       "      <td>1</td>\n",
       "      <td>130</td>\n",
       "      <td>204</td>\n",
       "      <td>0</td>\n",
       "      <td>0</td>\n",
       "      <td>172</td>\n",
       "      <td>0</td>\n",
       "      <td>1.4</td>\n",
       "      <td>2</td>\n",
       "      <td>0</td>\n",
       "      <td>2</td>\n",
       "      <td>1</td>\n",
       "    </tr>\n",
       "    <tr>\n",
       "      <th>3</th>\n",
       "      <td>56</td>\n",
       "      <td>1</td>\n",
       "      <td>1</td>\n",
       "      <td>120</td>\n",
       "      <td>236</td>\n",
       "      <td>0</td>\n",
       "      <td>1</td>\n",
       "      <td>178</td>\n",
       "      <td>0</td>\n",
       "      <td>0.8</td>\n",
       "      <td>2</td>\n",
       "      <td>0</td>\n",
       "      <td>2</td>\n",
       "      <td>1</td>\n",
       "    </tr>\n",
       "    <tr>\n",
       "      <th>4</th>\n",
       "      <td>57</td>\n",
       "      <td>0</td>\n",
       "      <td>0</td>\n",
       "      <td>120</td>\n",
       "      <td>354</td>\n",
       "      <td>0</td>\n",
       "      <td>1</td>\n",
       "      <td>163</td>\n",
       "      <td>1</td>\n",
       "      <td>0.6</td>\n",
       "      <td>2</td>\n",
       "      <td>0</td>\n",
       "      <td>2</td>\n",
       "      <td>1</td>\n",
       "    </tr>\n",
       "  </tbody>\n",
       "</table>\n",
       "</div>"
      ],
      "text/plain": [
       "   age  gender  chest_pain  rest_bps  cholestrol  fasting_blood_sugar  \\\n",
       "0   63       1           3       145         233                    1   \n",
       "1   37       1           2       130         250                    0   \n",
       "2   41       0           1       130         204                    0   \n",
       "3   56       1           1       120         236                    0   \n",
       "4   57       0           0       120         354                    0   \n",
       "\n",
       "   rest_ecg  thalach  exer_angina  old_peak  slope  ca  thalassemia  target  \n",
       "0         0      150            0       2.3      0   0            1       1  \n",
       "1         1      187            0       3.5      0   0            2       1  \n",
       "2         0      172            0       1.4      2   0            2       1  \n",
       "3         1      178            0       0.8      2   0            2       1  \n",
       "4         1      163            1       0.6      2   0            2       1  "
      ]
     },
     "execution_count": 2,
     "metadata": {},
     "output_type": "execute_result"
    }
   ],
   "source": [
    "df = pd.read_csv(r'HeartDisease.csv', header=0)\n",
    "df.head()"
   ]
  },
  {
   "cell_type": "code",
   "execution_count": 3,
   "id": "d8795b99",
   "metadata": {},
   "outputs": [
    {
     "name": "stdout",
     "output_type": "stream",
     "text": [
      "Data types: \n",
      " age                      int64\n",
      "gender                   int64\n",
      "chest_pain               int64\n",
      "rest_bps                 int64\n",
      "cholestrol               int64\n",
      "fasting_blood_sugar      int64\n",
      "rest_ecg                 int64\n",
      "thalach                  int64\n",
      "exer_angina              int64\n",
      "old_peak               float64\n",
      "slope                    int64\n",
      "ca                       int64\n",
      "thalassemia              int64\n",
      "target                   int64\n",
      "dtype: object\n",
      "\n",
      "\n",
      "\n",
      " The shape of the data: \n",
      " (303, 14)\n",
      "\n",
      "\n",
      "\n",
      " Data description: \n",
      "\n",
      "               age      gender  chest_pain    rest_bps  cholestrol  \\\n",
      "count  303.000000  303.000000  303.000000  303.000000  303.000000   \n",
      "mean    54.366337    0.683168    0.966997  131.623762  246.264026   \n",
      "std      9.082101    0.466011    1.032052   17.538143   51.830751   \n",
      "min     29.000000    0.000000    0.000000   94.000000  126.000000   \n",
      "25%     47.500000    0.000000    0.000000  120.000000  211.000000   \n",
      "50%     55.000000    1.000000    1.000000  130.000000  240.000000   \n",
      "75%     61.000000    1.000000    2.000000  140.000000  274.500000   \n",
      "max     77.000000    1.000000    3.000000  200.000000  564.000000   \n",
      "\n",
      "       fasting_blood_sugar    rest_ecg     thalach  exer_angina    old_peak  \\\n",
      "count           303.000000  303.000000  303.000000   303.000000  303.000000   \n",
      "mean              0.148515    0.528053  149.646865     0.326733    1.039604   \n",
      "std               0.356198    0.525860   22.905161     0.469794    1.161075   \n",
      "min               0.000000    0.000000   71.000000     0.000000    0.000000   \n",
      "25%               0.000000    0.000000  133.500000     0.000000    0.000000   \n",
      "50%               0.000000    1.000000  153.000000     0.000000    0.800000   \n",
      "75%               0.000000    1.000000  166.000000     1.000000    1.600000   \n",
      "max               1.000000    2.000000  202.000000     1.000000    6.200000   \n",
      "\n",
      "            slope          ca  thalassemia      target  \n",
      "count  303.000000  303.000000   303.000000  303.000000  \n",
      "mean     1.399340    0.729373     2.313531    0.544554  \n",
      "std      0.616226    1.022606     0.612277    0.498835  \n",
      "min      0.000000    0.000000     0.000000    0.000000  \n",
      "25%      1.000000    0.000000     2.000000    0.000000  \n",
      "50%      1.000000    0.000000     2.000000    1.000000  \n",
      "75%      2.000000    1.000000     3.000000    1.000000  \n",
      "max      2.000000    4.000000     3.000000    1.000000   \n",
      "\n",
      "\n"
     ]
    }
   ],
   "source": [
    "# Basic Data Exploration.\n",
    "\n",
    "print(\"Data types: \\n\", df.dtypes)\n",
    "print(\"\\n\\n\\n The shape of the data: \\n\", df.shape)\n",
    "print(\"\\n\\n\\n Data description: \\n\\n\", df.describe(),\"\\n\\n\")"
   ]
  },
  {
   "cell_type": "code",
   "execution_count": 4,
   "id": "66096473",
   "metadata": {},
   "outputs": [
    {
     "name": "stdout",
     "output_type": "stream",
     "text": [
      "<class 'pandas.core.frame.DataFrame'>\n",
      "RangeIndex: 303 entries, 0 to 302\n",
      "Data columns (total 14 columns):\n",
      " #   Column               Non-Null Count  Dtype  \n",
      "---  ------               --------------  -----  \n",
      " 0   age                  303 non-null    int64  \n",
      " 1   gender               303 non-null    int64  \n",
      " 2   chest_pain           303 non-null    int64  \n",
      " 3   rest_bps             303 non-null    int64  \n",
      " 4   cholestrol           303 non-null    int64  \n",
      " 5   fasting_blood_sugar  303 non-null    int64  \n",
      " 6   rest_ecg             303 non-null    int64  \n",
      " 7   thalach              303 non-null    int64  \n",
      " 8   exer_angina          303 non-null    int64  \n",
      " 9   old_peak             303 non-null    float64\n",
      " 10  slope                303 non-null    int64  \n",
      " 11  ca                   303 non-null    int64  \n",
      " 12  thalassemia          303 non-null    int64  \n",
      " 13  target               303 non-null    int64  \n",
      "dtypes: float64(1), int64(13)\n",
      "memory usage: 33.3 KB\n",
      "Data Information: \n",
      "\n",
      " None\n"
     ]
    }
   ],
   "source": [
    "print(\"Data Information: \\n\\n\", df.info())"
   ]
  },
  {
   "cell_type": "code",
   "execution_count": 5,
   "id": "879b13ba",
   "metadata": {},
   "outputs": [
    {
     "data": {
      "text/plain": [
       "Index(['age', 'gender', 'chest_pain', 'rest_bps', 'cholestrol',\n",
       "       'fasting_blood_sugar', 'rest_ecg', 'thalach', 'exer_angina', 'old_peak',\n",
       "       'slope', 'ca', 'thalassemia', 'target'],\n",
       "      dtype='object')"
      ]
     },
     "execution_count": 5,
     "metadata": {},
     "output_type": "execute_result"
    }
   ],
   "source": [
    "# Checking column names\n",
    "\n",
    "df.columns"
   ]
  },
  {
   "cell_type": "markdown",
   "id": "f3342704",
   "metadata": {},
   "source": [
    "#### Checking if there are missing values. If yes, we will handle them."
   ]
  },
  {
   "cell_type": "code",
   "execution_count": 6,
   "id": "a0e6f434",
   "metadata": {
    "scrolled": true
   },
   "outputs": [
    {
     "data": {
      "text/plain": [
       "age                    0\n",
       "gender                 0\n",
       "chest_pain             0\n",
       "rest_bps               0\n",
       "cholestrol             0\n",
       "fasting_blood_sugar    0\n",
       "rest_ecg               0\n",
       "thalach                0\n",
       "exer_angina            0\n",
       "old_peak               0\n",
       "slope                  0\n",
       "ca                     0\n",
       "thalassemia            0\n",
       "target                 0\n",
       "dtype: int64"
      ]
     },
     "execution_count": 6,
     "metadata": {},
     "output_type": "execute_result"
    }
   ],
   "source": [
    "df.isnull().sum()\n",
    "# No null values"
   ]
  },
  {
   "cell_type": "markdown",
   "id": "0fe9b10b",
   "metadata": {},
   "source": [
    "* We see that we have 303 rows and  14 columns\n",
    "* <u>'old_peak'</u> has float data type and rest all <u>features</u> are of int data type.\n",
    "* We have 0 NaN values.\n",
    "* No feature has the datatype object, which eliminates the possibility of having special characters in place of values.\n",
    "* DecisionTree is not affected alot by outliers, hence we will ignore them."
   ]
  },
  {
   "cell_type": "code",
   "execution_count": 7,
   "id": "45b36dc9",
   "metadata": {},
   "outputs": [],
   "source": [
    "# Splitting train data into X(Independent) & Y(Dependent)\n",
    "\n",
    "X = df.values[:,0:-1]\n",
    "Y = df.values[:,-1]"
   ]
  },
  {
   "cell_type": "code",
   "execution_count": 8,
   "id": "b170d5b0",
   "metadata": {},
   "outputs": [
    {
     "name": "stdout",
     "output_type": "stream",
     "text": [
      "Shape of X: (303, 13)\n",
      "Shape of Y: (303,)\n"
     ]
    }
   ],
   "source": [
    "print(\"Shape of X:\", X.shape)\n",
    "print(\"Shape of Y:\", Y.shape)"
   ]
  },
  {
   "cell_type": "markdown",
   "id": "15c3de8b",
   "metadata": {},
   "source": [
    "We confirm that X and Y are correct using .shape"
   ]
  },
  {
   "cell_type": "markdown",
   "id": "dce1d4b8",
   "metadata": {},
   "source": [
    "#### Creating X(Independent) and Y(Dependent) Variables"
   ]
  },
  {
   "cell_type": "code",
   "execution_count": 9,
   "id": "4c983c79",
   "metadata": {},
   "outputs": [],
   "source": [
    "# Split the data into test and train\n",
    "# We use test_size 0.2 (80%/20%) as we have less data\n",
    "\n",
    "#from sklearn.model_selection import train_test_split\n",
    "X_train, X_test, Y_train, Y_test = train_test_split(X, Y, test_size=0.2, random_state=10)"
   ]
  },
  {
   "cell_type": "markdown",
   "id": "c3413643",
   "metadata": {},
   "source": [
    "### Running a Decision Tree model"
   ]
  },
  {
   "cell_type": "code",
   "execution_count": 10,
   "id": "45d11874",
   "metadata": {},
   "outputs": [],
   "source": [
    "# Creating a DecisionTree model object.\n",
    "\n",
    "#from sklearn.tree import DecisionTreeClassifier\n",
    "model_DecisionTree = DecisionTreeClassifier(criterion=\"gini\", random_state=10)\n",
    "\n",
    "# Fitting the model on the data and predict the values\n",
    "model_DecisionTree.fit(X_train, Y_train)\n",
    "Y_pred = model_DecisionTree.predict(X_test)\n",
    "# print(Y_pred)\n",
    "# print(list(zip(Y_test, Y_pred)))"
   ]
  },
  {
   "cell_type": "code",
   "execution_count": 11,
   "id": "9c361eb2",
   "metadata": {},
   "outputs": [
    {
     "name": "stdout",
     "output_type": "stream",
     "text": [
      "Confusion Matrix: \n",
      "\n",
      " [[24 11]\n",
      " [ 5 21]]\n",
      "\n",
      " Accuracy of the model:  0.7377049180327869\n",
      "\n",
      "\n",
      " Classification Report: \n",
      "\n",
      "               precision    recall  f1-score   support\n",
      "\n",
      "         0.0       0.83      0.69      0.75        35\n",
      "         1.0       0.66      0.81      0.72        26\n",
      "\n",
      "    accuracy                           0.74        61\n",
      "   macro avg       0.74      0.75      0.74        61\n",
      "weighted avg       0.75      0.74      0.74        61\n",
      "\n"
     ]
    }
   ],
   "source": [
    "# Generating accuracy scores and metrics.\n",
    "\n",
    "#from sklearn.metrics import confusion_matrix, accuracy_score, classification_report\n",
    "print(\"Confusion Matrix: \\n\\n\", confusion_matrix(Y_test, Y_pred))\n",
    "print(\"\\n Accuracy of the model: \", accuracy_score(Y_test, Y_pred))\n",
    "print(\"\\n\\n Classification Report: \\n\\n\", classification_report(Y_test, Y_pred))"
   ]
  },
  {
   "cell_type": "code",
   "execution_count": 12,
   "id": "e16766e4",
   "metadata": {},
   "outputs": [
    {
     "data": {
      "text/plain": [
       "1.0"
      ]
     },
     "execution_count": 12,
     "metadata": {},
     "output_type": "execute_result"
    }
   ],
   "source": [
    "model_DecisionTree.score(X_train, Y_train)"
   ]
  },
  {
   "cell_type": "code",
   "execution_count": 13,
   "id": "6b45d10b",
   "metadata": {},
   "outputs": [
    {
     "name": "stdout",
     "output_type": "stream",
     "text": [
      "[('age', 0.04531587587888406), ('gender', 0.033898478491911924), ('chest_pain', 0.29176503457428227), ('rest_bps', 0.10160480431912085), ('cholestrol', 0.0773729378814243), ('fasting_blood_sugar', 0.0), ('rest_ecg', 0.0), ('thalach', 0.05844875340491687), ('exer_angina', 0.05994924448790483), ('old_peak', 0.09456106029755625), ('slope', 0.06516631481632049), ('ca', 0.16346600461348118), ('thalassemia', 0.008451491234197112)]\n"
     ]
    }
   ],
   "source": [
    "print(list(zip(df.columns[0:-1],model_DecisionTree.feature_importances_)))"
   ]
  },
  {
   "cell_type": "code",
   "execution_count": 14,
   "id": "3d3e98ac",
   "metadata": {},
   "outputs": [
    {
     "data": {
      "text/html": [
       "<div>\n",
       "<style scoped>\n",
       "    .dataframe tbody tr th:only-of-type {\n",
       "        vertical-align: middle;\n",
       "    }\n",
       "\n",
       "    .dataframe tbody tr th {\n",
       "        vertical-align: top;\n",
       "    }\n",
       "\n",
       "    .dataframe thead th {\n",
       "        text-align: right;\n",
       "    }\n",
       "</style>\n",
       "<table border=\"1\" class=\"dataframe\">\n",
       "  <thead>\n",
       "    <tr style=\"text-align: right;\">\n",
       "      <th></th>\n",
       "      <th>Feature</th>\n",
       "      <th>Importance</th>\n",
       "    </tr>\n",
       "  </thead>\n",
       "  <tbody>\n",
       "    <tr>\n",
       "      <th>2</th>\n",
       "      <td>chest_pain</td>\n",
       "      <td>0.291765</td>\n",
       "    </tr>\n",
       "    <tr>\n",
       "      <th>11</th>\n",
       "      <td>ca</td>\n",
       "      <td>0.163466</td>\n",
       "    </tr>\n",
       "    <tr>\n",
       "      <th>3</th>\n",
       "      <td>rest_bps</td>\n",
       "      <td>0.101605</td>\n",
       "    </tr>\n",
       "    <tr>\n",
       "      <th>9</th>\n",
       "      <td>old_peak</td>\n",
       "      <td>0.094561</td>\n",
       "    </tr>\n",
       "    <tr>\n",
       "      <th>4</th>\n",
       "      <td>cholestrol</td>\n",
       "      <td>0.077373</td>\n",
       "    </tr>\n",
       "    <tr>\n",
       "      <th>10</th>\n",
       "      <td>slope</td>\n",
       "      <td>0.065166</td>\n",
       "    </tr>\n",
       "    <tr>\n",
       "      <th>8</th>\n",
       "      <td>exer_angina</td>\n",
       "      <td>0.059949</td>\n",
       "    </tr>\n",
       "    <tr>\n",
       "      <th>7</th>\n",
       "      <td>thalach</td>\n",
       "      <td>0.058449</td>\n",
       "    </tr>\n",
       "    <tr>\n",
       "      <th>0</th>\n",
       "      <td>age</td>\n",
       "      <td>0.045316</td>\n",
       "    </tr>\n",
       "    <tr>\n",
       "      <th>1</th>\n",
       "      <td>gender</td>\n",
       "      <td>0.033898</td>\n",
       "    </tr>\n",
       "    <tr>\n",
       "      <th>12</th>\n",
       "      <td>thalassemia</td>\n",
       "      <td>0.008451</td>\n",
       "    </tr>\n",
       "    <tr>\n",
       "      <th>5</th>\n",
       "      <td>fasting_blood_sugar</td>\n",
       "      <td>0.000000</td>\n",
       "    </tr>\n",
       "    <tr>\n",
       "      <th>6</th>\n",
       "      <td>rest_ecg</td>\n",
       "      <td>0.000000</td>\n",
       "    </tr>\n",
       "  </tbody>\n",
       "</table>\n",
       "</div>"
      ],
      "text/plain": [
       "                Feature  Importance\n",
       "2            chest_pain    0.291765\n",
       "11                   ca    0.163466\n",
       "3              rest_bps    0.101605\n",
       "9              old_peak    0.094561\n",
       "4            cholestrol    0.077373\n",
       "10                slope    0.065166\n",
       "8           exer_angina    0.059949\n",
       "7               thalach    0.058449\n",
       "0                   age    0.045316\n",
       "1                gender    0.033898\n",
       "12          thalassemia    0.008451\n",
       "5   fasting_blood_sugar    0.000000\n",
       "6              rest_ecg    0.000000"
      ]
     },
     "execution_count": 14,
     "metadata": {},
     "output_type": "execute_result"
    }
   ],
   "source": [
    "# We can build a DF to view the feature importance and sort for a better visual.\n",
    "\n",
    "feature_imp = pd.DataFrame()\n",
    "feature_imp[\"Feature\"] = df.columns[:-1]\n",
    "feature_imp[\"Importance\"] = model_DecisionTree.feature_importances_ \n",
    "\n",
    "feature_imp.sort_values(\"Importance\", ascending = False)"
   ]
  },
  {
   "cell_type": "markdown",
   "id": "16b71637",
   "metadata": {},
   "source": [
    "## Pruning"
   ]
  },
  {
   "cell_type": "code",
   "execution_count": 15,
   "id": "20625513",
   "metadata": {},
   "outputs": [
    {
     "name": "stdout",
     "output_type": "stream",
     "text": [
      "Confusion Matrix: \n",
      "\n",
      " [[28  7]\n",
      " [ 3 23]]\n",
      "\n",
      " Accuracy of the model:  0.8360655737704918\n",
      "\n",
      "\n",
      " Classification Report: \n",
      "\n",
      "               precision    recall  f1-score   support\n",
      "\n",
      "         0.0       0.90      0.80      0.85        35\n",
      "         1.0       0.77      0.88      0.82        26\n",
      "\n",
      "    accuracy                           0.84        61\n",
      "   macro avg       0.83      0.84      0.83        61\n",
      "weighted avg       0.85      0.84      0.84        61\n",
      "\n"
     ]
    }
   ],
   "source": [
    "# We try to pass hyper parameters to try and prune the model and compare accuracy.\n",
    "\n",
    "pruned_DecisionTree = DecisionTreeClassifier(criterion=\"gini\", \n",
    "                                            random_state=10,\n",
    "                                           splitter=\"best\",\n",
    "                                           min_samples_leaf=4,\n",
    "                                           min_samples_split=5,\n",
    "                                           max_depth=5,\n",
    "                                           #max_leaf_nodes=100,\n",
    "                                           max_features=10\n",
    "                                           ) \n",
    "\n",
    "# Fitting the model on the data and predict the values\n",
    "pruned_DecisionTree.fit(X_train, Y_train)\n",
    "Y_pred = pruned_DecisionTree.predict(X_test)\n",
    "\n",
    "print(\"Confusion Matrix: \\n\\n\", confusion_matrix(Y_test, Y_pred))\n",
    "print(\"\\n Accuracy of the model: \", accuracy_score(Y_test, Y_pred))\n",
    "print(\"\\n\\n Classification Report: \\n\\n\", classification_report(Y_test, Y_pred))"
   ]
  },
  {
   "cell_type": "code",
   "execution_count": 16,
   "id": "30ae1469",
   "metadata": {},
   "outputs": [
    {
     "name": "stdout",
     "output_type": "stream",
     "text": [
      "Confusion Matrix: \n",
      "\n",
      " [[27  8]\n",
      " [ 5 21]]\n",
      "\n",
      " Accuracy of the model:  0.7868852459016393\n",
      "\n",
      "\n",
      " Classification Report: \n",
      "\n",
      "               precision    recall  f1-score   support\n",
      "\n",
      "         0.0       0.84      0.77      0.81        35\n",
      "         1.0       0.72      0.81      0.76        26\n",
      "\n",
      "    accuracy                           0.79        61\n",
      "   macro avg       0.78      0.79      0.78        61\n",
      "weighted avg       0.79      0.79      0.79        61\n",
      "\n"
     ]
    }
   ],
   "source": [
    "# Using Entropy instead of gini\n",
    "\n",
    "model_DecisionTree = DecisionTreeClassifier(criterion=\"entropy\", \n",
    "                                            random_state=10,\n",
    "                                           splitter=\"best\",\n",
    "                                           min_samples_leaf=4,\n",
    "                                           min_samples_split=5,\n",
    "                                           max_depth=5,\n",
    "                                           #max_leaf_nodes=100,\n",
    "                                           max_features=10\n",
    "                                           ) \n",
    "\n",
    "# Fitting the model on the data and predict the values\n",
    "model_DecisionTree.fit(X_train, Y_train)\n",
    "Y_pred = model_DecisionTree.predict(X_test)\n",
    "\n",
    "print(\"Confusion Matrix: \\n\\n\", confusion_matrix(Y_test, Y_pred))\n",
    "print(\"\\n Accuracy of the model: \", accuracy_score(Y_test, Y_pred))\n",
    "print(\"\\n\\n Classification Report: \\n\\n\", classification_report(Y_test, Y_pred))"
   ]
  },
  {
   "cell_type": "code",
   "execution_count": 17,
   "id": "9f386528",
   "metadata": {},
   "outputs": [
    {
     "name": "stdout",
     "output_type": "stream",
     "text": [
      "Confusion Matrix: \n",
      "\n",
      " [[28  7]\n",
      " [ 5 21]]\n",
      "\n",
      " Accuracy of the model:  0.8032786885245902\n",
      "\n",
      "\n",
      " Classification Report: \n",
      "\n",
      "               precision    recall  f1-score   support\n",
      "\n",
      "         0.0       0.85      0.80      0.82        35\n",
      "         1.0       0.75      0.81      0.78        26\n",
      "\n",
      "    accuracy                           0.80        61\n",
      "   macro avg       0.80      0.80      0.80        61\n",
      "weighted avg       0.81      0.80      0.80        61\n",
      "\n"
     ]
    }
   ],
   "source": [
    "# Predicting using the Random_Forest_Classifier\n",
    "\n",
    "#from sklearn.ensemble import RandomForestClassifier\n",
    "\n",
    "model_RandomForest = RandomForestClassifier(n_estimators=100,\n",
    "                                           random_state=10,\n",
    "                                           bootstrap=True)\n",
    "\n",
    "# Fitting the model on the data and predict the values\n",
    "model_RandomForest.fit(X_train, Y_train)\n",
    "\n",
    "Y_pred = model_RandomForest.predict(X_test)\n",
    "\n",
    "print(\"Confusion Matrix: \\n\\n\", confusion_matrix(Y_test, Y_pred))\n",
    "print(\"\\n Accuracy of the model: \", accuracy_score(Y_test, Y_pred))\n",
    "print(\"\\n\\n Classification Report: \\n\\n\", classification_report(Y_test, Y_pred))"
   ]
  },
  {
   "cell_type": "code",
   "execution_count": 18,
   "id": "06971a60",
   "metadata": {
    "scrolled": true
   },
   "outputs": [
    {
     "name": "stdout",
     "output_type": "stream",
     "text": [
      "Confusion Matrix: \n",
      "\n",
      " [[29  6]\n",
      " [ 4 22]]\n",
      "\n",
      " Accuracy of the model:  0.8360655737704918\n",
      "\n",
      "\n",
      " Classification Report: \n",
      "\n",
      "               precision    recall  f1-score   support\n",
      "\n",
      "         0.0       0.88      0.83      0.85        35\n",
      "         1.0       0.79      0.85      0.81        26\n",
      "\n",
      "    accuracy                           0.84        61\n",
      "   macro avg       0.83      0.84      0.83        61\n",
      "weighted avg       0.84      0.84      0.84        61\n",
      "\n"
     ]
    }
   ],
   "source": [
    "# Predicting using the Extra_Trees_Classifier\n",
    "\n",
    "#from sklearn.ensemble import ExtraTreesClassifier\n",
    "\n",
    "model_EXT = ExtraTreesClassifier(n_estimators=100,\n",
    "                                 random_state=10,\n",
    "                                 bootstrap=True)   # Here, bootstrap=True is not mandatory\n",
    "\n",
    "# Fitting the model on the data and predict the values\n",
    "model_EXT.fit(X_train, Y_train)\n",
    "\n",
    "Y_pred = model_EXT.predict(X_test)\n",
    "\n",
    "print(\"Confusion Matrix: \\n\\n\", confusion_matrix(Y_test, Y_pred))\n",
    "print(\"\\n Accuracy of the model: \", accuracy_score(Y_test, Y_pred))\n",
    "print(\"\\n\\n Classification Report: \\n\\n\", classification_report(Y_test, Y_pred))"
   ]
  },
  {
   "cell_type": "markdown",
   "id": "7ca296a6",
   "metadata": {},
   "source": [
    "<head>\n",
    "\t<title>Metrics Summary</title> \n",
    "\t<style>\n",
    "\t\ttable td {\n",
    "\t\t\ttext-align:center;\n",
    "\t\t}\n",
    "\t</style>\n",
    "</head>\n",
    "<body>\n",
    "\t<table>\n",
    "\t\t<thead>\n",
    "\t\t\t<tr>\n",
    "                <th><u>Metrics</u></th>\n",
    "                <th><u>Classes</u></th>\n",
    "\t\t\t\t<th>Base DecisionTree</th>\n",
    "\t\t\t\t<th>After Pruning</th>\n",
    "\t\t\t\t<th>Using Entropy</th>\n",
    "\t\t\t\t<th>RandomForest</th>\n",
    "\t\t\t\t<th>ExtraTrees</th>\n",
    "\t\t\t</tr>\n",
    "\t\t</thead>\n",
    "\t\t<tbody>\n",
    "\t\t\t<tr>\n",
    "\t\t\t\t<td>Accuracy</td>\n",
    "\t\t\t\t<td>-</td>\n",
    "\t\t\t\t<td>73.77%</td>\n",
    "\t\t\t\t<td>83.60%</td>\n",
    "\t\t\t\t<td>78.68%</td>\n",
    "\t\t\t\t<td>80.32%</td>\n",
    "\t\t\t\t<td>83.60%</td>\n",
    "\t\t\t</tr>\n",
    "\t\t\t<tr>\n",
    "\t\t\t\t<td>Precision</td>\n",
    "\t\t\t\t<td>class 0</td>\n",
    "\t\t\t\t<td>0.83</td>\n",
    "\t\t\t\t<td>0.90</td>\n",
    "\t\t\t\t<td>0.84</td>\n",
    "\t\t\t\t<td>0.85</td>\n",
    "\t\t\t\t<td>0.88</td>\n",
    "\t\t\t</tr>\n",
    "\t\t\t<tr>\n",
    "\t\t\t\t<td>-</td>\n",
    "\t\t\t\t<td>class 1</td>\n",
    "\t\t\t\t<td>0.66</td>\n",
    "\t\t\t\t<td>0.77</td>\n",
    "\t\t\t\t<td>0.72</td>\n",
    "\t\t\t\t<td>0.75</td>\n",
    "\t\t\t\t<td>0.79</td>\n",
    "\t\t\t</tr>\n",
    "\t\t\t<tr>\n",
    "\t\t\t\t<td>Recall</td>\n",
    "\t\t\t\t<td>class 0</td>\n",
    "\t\t\t\t<td>0.69</td>\n",
    "\t\t\t\t<td>0.80</td>\n",
    "\t\t\t\t<td>0.77</td>\n",
    "\t\t\t\t<td>0.80</td>\n",
    "\t\t\t\t<td>0.83</td>\n",
    "\t\t\t</tr>\n",
    "\t\t\t<tr>\n",
    "\t\t\t\t<td>-</td>\n",
    "\t\t\t\t<td>class 1</td>\n",
    "\t\t\t\t<td>0.81</td>\n",
    "\t\t\t\t<td>0.88</td>\n",
    "\t\t\t\t<td>0.81</td>\n",
    "\t\t\t\t<td>0.81</td>\n",
    "\t\t\t\t<td>0.85</td>\n",
    "\t\t\t</tr>\n",
    "\t\t\t<tr>\n",
    "\t\t\t\t<td>F1-Score</td>\n",
    "\t\t\t\t<td>class 0</td>\n",
    "\t\t\t\t<td>0.75</td>\n",
    "\t\t\t\t<td>0.85</td>\n",
    "\t\t\t\t<td>0.81</td>\n",
    "\t\t\t\t<td>0.82</td>\n",
    "\t\t\t\t<td>0.85</td>\n",
    "\t\t\t</tr>\n",
    "\t\t\t<tr>\n",
    "\t\t\t\t<td>-</td>\n",
    "\t\t\t\t<td>class 1</td>\n",
    "\t\t\t\t<td>0.72</td>\n",
    "\t\t\t\t<td>0.82</td>\n",
    "\t\t\t\t<td>0.76</td>\n",
    "\t\t\t\t<td>0.78</td>\n",
    "\t\t\t\t<td>0.81</td>\n",
    "\t\t\t</tr>\n",
    "\t\t</tbody>\n",
    "\t</table>\n",
    "</body>"
   ]
  },
  {
   "cell_type": "markdown",
   "id": "d7f6c07d",
   "metadata": {},
   "source": [
    "* Our pruned DecisionTree model and ExtraaTrees model gives us the same highest accuracy(83.6%) and best scores.\n",
    "* But the overall f1-score for class 1 is slightly better in case of our pruned DecisionTree model.\n",
    "* We confirm from the metrics that our pruned model performs better and hence we will go ahead and predict using it."
   ]
  },
  {
   "cell_type": "code",
   "execution_count": 19,
   "id": "0d532939",
   "metadata": {},
   "outputs": [
    {
     "name": "stdout",
     "output_type": "stream",
     "text": [
      "Confusion Matrix: \n",
      "\n",
      " [[114  24]\n",
      " [ 17 148]]\n",
      "\n",
      " Accuracy of the model:  0.8646864686468647\n",
      "\n",
      "\n",
      " Classification Report: \n",
      "\n",
      "               precision    recall  f1-score   support\n",
      "\n",
      "         0.0       0.87      0.83      0.85       138\n",
      "         1.0       0.86      0.90      0.88       165\n",
      "\n",
      "    accuracy                           0.86       303\n",
      "   macro avg       0.87      0.86      0.86       303\n",
      "weighted avg       0.86      0.86      0.86       303\n",
      "\n"
     ]
    }
   ],
   "source": [
    "Y_pred = pruned_DecisionTree.predict(X)\n",
    "\n",
    "print(\"Confusion Matrix: \\n\\n\", confusion_matrix(Y, Y_pred))\n",
    "print(\"\\n Accuracy of the model: \", accuracy_score(Y, Y_pred))\n",
    "print(\"\\n\\n Classification Report: \\n\\n\", classification_report(Y, Y_pred))"
   ]
  },
  {
   "cell_type": "code",
   "execution_count": 20,
   "id": "59529424",
   "metadata": {},
   "outputs": [],
   "source": [
    "#from sklearn import tree\n",
    "with open(r\"model_DecisionTree.txt\", \"w\") as f:\n",
    "\n",
    "    f = tree.export_graphviz(pruned_DecisionTree, feature_names=df.columns[0:-1], out_file=f)\n",
    "\n",
    "# generating the file and uploading the code in webgraphviz.com to plot the decision tree."
   ]
  },
  {
   "cell_type": "markdown",
   "id": "8d8a3190",
   "metadata": {},
   "source": [
    "We will now create a dataframe to hold the dataset and its predicted values and dump it to an excel file."
   ]
  },
  {
   "cell_type": "code",
   "execution_count": 21,
   "id": "ddda5bc5",
   "metadata": {
    "scrolled": false
   },
   "outputs": [
    {
     "data": {
      "text/html": [
       "<div>\n",
       "<style scoped>\n",
       "    .dataframe tbody tr th:only-of-type {\n",
       "        vertical-align: middle;\n",
       "    }\n",
       "\n",
       "    .dataframe tbody tr th {\n",
       "        vertical-align: top;\n",
       "    }\n",
       "\n",
       "    .dataframe thead th {\n",
       "        text-align: right;\n",
       "    }\n",
       "</style>\n",
       "<table border=\"1\" class=\"dataframe\">\n",
       "  <thead>\n",
       "    <tr style=\"text-align: right;\">\n",
       "      <th></th>\n",
       "      <th>age</th>\n",
       "      <th>gender</th>\n",
       "      <th>chest_pain</th>\n",
       "      <th>rest_bps</th>\n",
       "      <th>cholestrol</th>\n",
       "      <th>fasting_blood_sugar</th>\n",
       "      <th>rest_ecg</th>\n",
       "      <th>thalach</th>\n",
       "      <th>exer_angina</th>\n",
       "      <th>old_peak</th>\n",
       "      <th>slope</th>\n",
       "      <th>ca</th>\n",
       "      <th>thalassemia</th>\n",
       "      <th>target</th>\n",
       "      <th>Pred</th>\n",
       "    </tr>\n",
       "  </thead>\n",
       "  <tbody>\n",
       "    <tr>\n",
       "      <th>0</th>\n",
       "      <td>63</td>\n",
       "      <td>1</td>\n",
       "      <td>3</td>\n",
       "      <td>145</td>\n",
       "      <td>233</td>\n",
       "      <td>1</td>\n",
       "      <td>0</td>\n",
       "      <td>150</td>\n",
       "      <td>0</td>\n",
       "      <td>2.3</td>\n",
       "      <td>0</td>\n",
       "      <td>0</td>\n",
       "      <td>1</td>\n",
       "      <td>1</td>\n",
       "      <td>1</td>\n",
       "    </tr>\n",
       "    <tr>\n",
       "      <th>1</th>\n",
       "      <td>37</td>\n",
       "      <td>1</td>\n",
       "      <td>2</td>\n",
       "      <td>130</td>\n",
       "      <td>250</td>\n",
       "      <td>0</td>\n",
       "      <td>1</td>\n",
       "      <td>187</td>\n",
       "      <td>0</td>\n",
       "      <td>3.5</td>\n",
       "      <td>0</td>\n",
       "      <td>0</td>\n",
       "      <td>2</td>\n",
       "      <td>1</td>\n",
       "      <td>1</td>\n",
       "    </tr>\n",
       "    <tr>\n",
       "      <th>2</th>\n",
       "      <td>41</td>\n",
       "      <td>0</td>\n",
       "      <td>1</td>\n",
       "      <td>130</td>\n",
       "      <td>204</td>\n",
       "      <td>0</td>\n",
       "      <td>0</td>\n",
       "      <td>172</td>\n",
       "      <td>0</td>\n",
       "      <td>1.4</td>\n",
       "      <td>2</td>\n",
       "      <td>0</td>\n",
       "      <td>2</td>\n",
       "      <td>1</td>\n",
       "      <td>1</td>\n",
       "    </tr>\n",
       "    <tr>\n",
       "      <th>3</th>\n",
       "      <td>56</td>\n",
       "      <td>1</td>\n",
       "      <td>1</td>\n",
       "      <td>120</td>\n",
       "      <td>236</td>\n",
       "      <td>0</td>\n",
       "      <td>1</td>\n",
       "      <td>178</td>\n",
       "      <td>0</td>\n",
       "      <td>0.8</td>\n",
       "      <td>2</td>\n",
       "      <td>0</td>\n",
       "      <td>2</td>\n",
       "      <td>1</td>\n",
       "      <td>1</td>\n",
       "    </tr>\n",
       "    <tr>\n",
       "      <th>4</th>\n",
       "      <td>57</td>\n",
       "      <td>0</td>\n",
       "      <td>0</td>\n",
       "      <td>120</td>\n",
       "      <td>354</td>\n",
       "      <td>0</td>\n",
       "      <td>1</td>\n",
       "      <td>163</td>\n",
       "      <td>1</td>\n",
       "      <td>0.6</td>\n",
       "      <td>2</td>\n",
       "      <td>0</td>\n",
       "      <td>2</td>\n",
       "      <td>1</td>\n",
       "      <td>1</td>\n",
       "    </tr>\n",
       "  </tbody>\n",
       "</table>\n",
       "</div>"
      ],
      "text/plain": [
       "   age  gender  chest_pain  rest_bps  cholestrol  fasting_blood_sugar  \\\n",
       "0   63       1           3       145         233                    1   \n",
       "1   37       1           2       130         250                    0   \n",
       "2   41       0           1       130         204                    0   \n",
       "3   56       1           1       120         236                    0   \n",
       "4   57       0           0       120         354                    0   \n",
       "\n",
       "   rest_ecg  thalach  exer_angina  old_peak  slope  ca  thalassemia  target  \\\n",
       "0         0      150            0       2.3      0   0            1       1   \n",
       "1         1      187            0       3.5      0   0            2       1   \n",
       "2         0      172            0       1.4      2   0            2       1   \n",
       "3         1      178            0       0.8      2   0            2       1   \n",
       "4         1      163            1       0.6      2   0            2       1   \n",
       "\n",
       "   Pred  \n",
       "0     1  \n",
       "1     1  \n",
       "2     1  \n",
       "3     1  \n",
       "4     1  "
      ]
     },
     "execution_count": 21,
     "metadata": {},
     "output_type": "execute_result"
    }
   ],
   "source": [
    "final_df = pd.read_csv(r'HeartDisease.csv', header=0)\n",
    "Y_pred = Y_pred.astype(int)\n",
    "final_df['Pred'] = Y_pred\n",
    "\n",
    "final_df.head()"
   ]
  },
  {
   "cell_type": "code",
   "execution_count": 22,
   "id": "778e83ca",
   "metadata": {},
   "outputs": [],
   "source": [
    "final_df.to_excel(\"HeartDisease Predicted.xlsx\", header = True)"
   ]
  },
  {
   "cell_type": "markdown",
   "id": "1f502911",
   "metadata": {},
   "source": [
    "# End of Project"
   ]
  }
 ],
 "metadata": {
  "kernelspec": {
   "display_name": "Python 3 (ipykernel)",
   "language": "python",
   "name": "python3"
  },
  "language_info": {
   "codemirror_mode": {
    "name": "ipython",
    "version": 3
   },
   "file_extension": ".py",
   "mimetype": "text/x-python",
   "name": "python",
   "nbconvert_exporter": "python",
   "pygments_lexer": "ipython3",
   "version": "3.9.13"
  }
 },
 "nbformat": 4,
 "nbformat_minor": 5
}
